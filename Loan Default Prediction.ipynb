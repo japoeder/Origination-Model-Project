version https://git-lfs.github.com/spec/v1
oid sha256:d275f8c66bc11bfbeaedeb6c3bcfa1d57afa2f951c0347aead18ca9aa79726f2
size 403810
